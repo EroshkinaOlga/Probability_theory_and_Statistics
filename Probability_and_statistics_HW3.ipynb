{
 "cells": [
  {
   "cell_type": "code",
   "execution_count": 23,
   "id": "eaeef1fe",
   "metadata": {},
   "outputs": [],
   "source": [
    "import numpy as np\n",
    "import pandas as pd\n",
    "import matplotlib.pyplot as plt\n",
    "import warnings\n",
    "from math import factorial\n",
    "warnings.filterwarnings('ignore')"
   ]
  },
  {
   "cell_type": "code",
   "execution_count": null,
   "id": "6a47b145",
   "metadata": {},
   "outputs": [],
   "source": [
    "#1. Даны значения зарплат из выборки выпускников: 100, 80, 75, 77, 89, 33, 45, 25, 65, 17, 30, 24, 57, 55, 70, 75, 65, 84, 90, 150.\n",
    "# Посчитать (желательно без использования статистических методов наподобие std, var, mean) среднее арифметическое, \n",
    "# среднее квадратичное отклонение, смещенную и несмещенную оценки дисперсий для данной выборки.\n",
    "\n"
   ]
  },
  {
   "cell_type": "code",
   "execution_count": 63,
   "id": "a4cc5a0a",
   "metadata": {},
   "outputs": [
    {
     "name": "stdout",
     "output_type": "stream",
     "text": [
      "1306 20 65.3 110.39390608181233 12205.693684210526 12186.8145\n"
     ]
    }
   ],
   "source": [
    "a = int(100 + 80 + 75 + 77 + 89 + 33 + 45 + 25 + 65 + 17 + 30 + 24 + 57 + 55 + 70 + 75 + 65 + 84 + 90 + 150)\n",
    "b = int(20)\n",
    "c = a / b\n",
    "d = ((100 -c)**2 + (80 -c)**2 + (75 -c)**2 + (77 - c)**2 + (89 - c)**2 + (33 -c)**2 + (45 - c)**2 + (25 -c)**2 + (65 -c)**2 + (17 -c)**2+ (30 -c)**2 + (24 -c)**2 + (57 -c)**2 + (55 -c)**2 + (70 -c)**2 + (75 - c)**2 + (65 -c)**2 + (84 -c)**2 + (90 -c)**2 + (150 -c)**2 / b)**(1/2)\n",
    "e = (100 -c)**2 + (80 -c)**2 + (75 -c)**2 + (77 - c)**2 + (89 - c)**2 + (33 -c)**2 + (45 - c)**2 + (25 -c)**2 + (65 -c)**2 + (17 -c)**2+ (30 -c)**2 + (24 -c)**2 + (57 -c)**2 + (55 -c)**2 + (70 -c)**2 + (75 - c)**2 + (65 -c)**2 + (84 -c)**2 + (90 -c)**2 + (150 -c)**2 / (b-1)\n",
    "f = (100 -c)**2 + (80 -c)**2 + (75 -c)**2 + (77 - c)**2 + (89 - c)**2 + (33 -c)**2 + (45 - c)**2 + (25 -c)**2 + (65 -c)**2 + (17 -c)**2+ (30 -c)**2 + (24 -c)**2 + (57 -c)**2 + (55 -c)**2 + (70 -c)**2 + (75 - c)**2 + (65 -c)**2 + (84 -c)**2 + (90 -c)**2 + (150 -c)**2 / b\n",
    "print(a, b, c, d, e, f)\n"
   ]
  },
  {
   "cell_type": "code",
   "execution_count": null,
   "id": "036319df",
   "metadata": {},
   "outputs": [],
   "source": [
    "#2. В первом ящике находится 8 мячей, из которых 5 - белые. Во втором ящике - 12 мячей, из которых 5 белых.\n",
    "# Из первого ящика вытаскивают случайным образом два мяча, из второго - 4. Какова вероятность того, что 3 мяча белые?\n",
    "\n",
    "\n"
   ]
  },
  {
   "cell_type": "code",
   "execution_count": 25,
   "id": "21ca24bd",
   "metadata": {},
   "outputs": [],
   "source": [
    "def combinations(n, k):\n",
    "    return int(factorial(n) / (factorial(k) * factorial(n - k)))\n",
    "\n"
   ]
  },
  {
   "cell_type": "code",
   "execution_count": 19,
   "id": "2eb8ab51",
   "metadata": {},
   "outputs": [
    {
     "data": {
      "text/plain": [
       "0.10714285714285714"
      ]
     },
     "execution_count": 19,
     "metadata": {},
     "output_type": "execute_result"
    }
   ],
   "source": [
    "combinations(5,0)*combinations(3,2)/combinations(8,2)\n"
   ]
  },
  {
   "cell_type": "code",
   "execution_count": 15,
   "id": "aeb7a89c",
   "metadata": {},
   "outputs": [
    {
     "data": {
      "text/plain": [
       "0.1414141414141414"
      ]
     },
     "execution_count": 15,
     "metadata": {},
     "output_type": "execute_result"
    }
   ],
   "source": [
    "combinations(5,3)*combinations(7,1)/combinations(12,4)"
   ]
  },
  {
   "cell_type": "code",
   "execution_count": 17,
   "id": "aff417ba",
   "metadata": {},
   "outputs": [
    {
     "data": {
      "text/plain": [
       "0.01515151515151515"
      ]
     },
     "execution_count": 17,
     "metadata": {},
     "output_type": "execute_result"
    }
   ],
   "source": [
    "0.10714285714285714*0.1414141414141414"
   ]
  },
  {
   "cell_type": "code",
   "execution_count": 27,
   "id": "e76503a9",
   "metadata": {},
   "outputs": [
    {
     "data": {
      "text/plain": [
       "0.35353535353535354"
      ]
     },
     "execution_count": 27,
     "metadata": {},
     "output_type": "execute_result"
    }
   ],
   "source": [
    "combinations(5,1)*combinations(7,3)/combinations(12,4)"
   ]
  },
  {
   "cell_type": "code",
   "execution_count": 28,
   "id": "2849056d",
   "metadata": {},
   "outputs": [
    {
     "data": {
      "text/plain": [
       "0.35714285714285715"
      ]
     },
     "execution_count": 28,
     "metadata": {},
     "output_type": "execute_result"
    }
   ],
   "source": [
    "combinations(5,2)*combinations(3,0)/combinations(8,2)"
   ]
  },
  {
   "cell_type": "code",
   "execution_count": 29,
   "id": "6d8e8af8",
   "metadata": {},
   "outputs": [
    {
     "data": {
      "text/plain": [
       "0.12626262626262627"
      ]
     },
     "execution_count": 29,
     "metadata": {},
     "output_type": "execute_result"
    }
   ],
   "source": [
    "0.35353535353535354*0.35714285714285715"
   ]
  },
  {
   "cell_type": "code",
   "execution_count": 30,
   "id": "31c17a1e",
   "metadata": {},
   "outputs": [
    {
     "data": {
      "text/plain": [
       "0.42424242424242425"
      ]
     },
     "execution_count": 30,
     "metadata": {},
     "output_type": "execute_result"
    }
   ],
   "source": [
    "combinations(5,2)*combinations(7,2)/combinations(12,4)"
   ]
  },
  {
   "cell_type": "code",
   "execution_count": 31,
   "id": "f280085f",
   "metadata": {},
   "outputs": [
    {
     "data": {
      "text/plain": [
       "0.5357142857142857"
      ]
     },
     "execution_count": 31,
     "metadata": {},
     "output_type": "execute_result"
    }
   ],
   "source": [
    "combinations(5,1)*combinations(3,1)/combinations(8,2)"
   ]
  },
  {
   "cell_type": "code",
   "execution_count": 32,
   "id": "e30e6fe9",
   "metadata": {},
   "outputs": [
    {
     "data": {
      "text/plain": [
       "0.22727272727272727"
      ]
     },
     "execution_count": 32,
     "metadata": {},
     "output_type": "execute_result"
    }
   ],
   "source": [
    "0.42424242424242425*0.5357142857142857"
   ]
  },
  {
   "cell_type": "code",
   "execution_count": 33,
   "id": "d49b773d",
   "metadata": {},
   "outputs": [
    {
     "data": {
      "text/plain": [
       "0.3686868686868687"
      ]
     },
     "execution_count": 33,
     "metadata": {},
     "output_type": "execute_result"
    }
   ],
   "source": [
    "0.22727272727272727+0.12626262626262627+0.01515151515151515"
   ]
  },
  {
   "cell_type": "code",
   "execution_count": null,
   "id": "27296662",
   "metadata": {},
   "outputs": [],
   "source": [
    "# 3.На соревновании по биатлону один из трех спортсменов стреляет и попадает в мишень. Вероятность попадания \n",
    "# для первого спортсмена равна 0.9, для второго — 0.8, для третьего — 0.6. Найти вероятность того, что выстрел произведен:\n",
    "# a). первым спортсменом б). вторым спортсменом в). третьим спортсменом.\n",
    "\n"
   ]
  },
  {
   "cell_type": "code",
   "execution_count": 79,
   "id": "e3a480ff",
   "metadata": {},
   "outputs": [
    {
     "name": "stdout",
     "output_type": "stream",
     "text": [
      "0.7666666666666666\n"
     ]
    }
   ],
   "source": [
    "p1 = 0.9\n",
    "p2=0.8\n",
    "p3=0.6\n",
    "a=1/3\n",
    "P=p1*a+p2*a+p3*a\n",
    "print(P)"
   ]
  },
  {
   "cell_type": "code",
   "execution_count": 82,
   "id": "cad2a153",
   "metadata": {},
   "outputs": [
    {
     "name": "stdout",
     "output_type": "stream",
     "text": [
      "0.391304347826087\n"
     ]
    }
   ],
   "source": [
    "P1 = p1 * a / P\n",
    "print(P1)"
   ]
  },
  {
   "cell_type": "code",
   "execution_count": 77,
   "id": "f8106ab5",
   "metadata": {},
   "outputs": [
    {
     "name": "stdout",
     "output_type": "stream",
     "text": [
      "0.3478260869565218\n"
     ]
    }
   ],
   "source": [
    "P2 = p2 * a / P\n",
    "print(P2)"
   ]
  },
  {
   "cell_type": "code",
   "execution_count": 83,
   "id": "3d79e3c4",
   "metadata": {},
   "outputs": [
    {
     "name": "stdout",
     "output_type": "stream",
     "text": [
      "0.2608695652173913\n"
     ]
    }
   ],
   "source": [
    "P3=p3*a/P\n",
    "print(P3)"
   ]
  },
  {
   "cell_type": "code",
   "execution_count": 40,
   "id": "080ba3f1",
   "metadata": {},
   "outputs": [
    {
     "data": {
      "text/plain": [
       "1.0"
      ]
     },
     "execution_count": 40,
     "metadata": {},
     "output_type": "execute_result"
    }
   ],
   "source": [
    "D=0.3478260869565218+0.2608695652173913+0.391304347826087"
   ]
  },
  {
   "cell_type": "code",
   "execution_count": null,
   "id": "65bcb3e7",
   "metadata": {},
   "outputs": [],
   "source": [
    "# 4. В университет на факультеты A и B поступило равное количество студентов, а на факультет C студентов поступило \n",
    "# столько же, сколько на A и B вместе. Вероятность того, что студент факультета A сдаст первую сессию, равна 0.8. \n",
    "# Для студента факультета B эта вероятность равна 0.7, а для студента факультета C - 0.9. Студент сдал первую сессию. \n",
    "# # Какова вероятность, что он учится: a). на факультете A б). на факультете B в). на факультете C?\n",
    "\n",
    "#"
   ]
  },
  {
   "cell_type": "code",
   "execution_count": null,
   "id": "8d4310ac",
   "metadata": {},
   "outputs": [],
   "source": [
    "p1=0.8\n",
    "p2=0.7\n",
    "p3=0.9\n",
    "\n",
    "n+n+(n+n)=1 -> 4n=1 -> n=1/4\n"
   ]
  },
  {
   "cell_type": "code",
   "execution_count": 60,
   "id": "039cb859",
   "metadata": {},
   "outputs": [
    {
     "name": "stdout",
     "output_type": "stream",
     "text": [
      "0.825 0.24242424242424246 0.21212121212121213 0.5454545454545455\n"
     ]
    }
   ],
   "source": [
    "p1=0.8\n",
    "p2=0.7\n",
    "p3=0.9\n",
    "\n",
    "Past = 1/4 \n",
    "Pbst = 1/4\n",
    "Pcst = 1/2 # (в два раза больше студентов)\n",
    "Pfull = Past * p1 + Pbst * p2  + Pcst*p3 #(Полная вероятность)\n",
    "\n",
    "PA = Past*p1/Pfull\n",
    "PB = Pbst*p2/Pfull\n",
    "PC = Pcst*p3/Pfull\n",
    "\n",
    "print(Pfull, PA, PB, PC)"
   ]
  },
  {
   "cell_type": "code",
   "execution_count": 62,
   "id": "33bae77a",
   "metadata": {},
   "outputs": [
    {
     "data": {
      "text/plain": [
       "1.0"
      ]
     },
     "execution_count": 62,
     "metadata": {},
     "output_type": "execute_result"
    }
   ],
   "source": [
    "# Проверка: \n",
    "0.24242424242424246+0.21212121212121213+0.5454545454545455"
   ]
  },
  {
   "cell_type": "code",
   "execution_count": null,
   "id": "ceec742b",
   "metadata": {},
   "outputs": [],
   "source": [
    "#5. Устройство состоит из трех деталей. Для первой детали вероятность выйти из строя в первый месяц равна 0.1, для второй - 0.2, \n",
    "# для третьей - 0.25. Какова вероятность того, что в первый месяц выйдут из строя:\n",
    "#  а). все детали б). только две детали в). хотя бы одна деталь г). от одной до двух деталей?"
   ]
  },
  {
   "cell_type": "code",
   "execution_count": 84,
   "id": "103eb8cf",
   "metadata": {},
   "outputs": [
    {
     "name": "stdout",
     "output_type": "stream",
     "text": [
      "0.005000000000000001 0.08 0.45999999999999996 0.45499999999999996\n"
     ]
    }
   ],
   "source": [
    "p1=0.1\n",
    "p2=0.2\n",
    "p3=0.25\n",
    "# a)\n",
    "A=p1*p2*p3\n",
    "# б)\n",
    "B=(1-p1)*p2*p3+p1*(1-p2)*p3+p1*p2*(1-p3)\n",
    "\n",
    "# в)\n",
    "С=1-(1-p1)*(1-p2)*(1-p3)\n",
    "\n",
    "# г)\n",
    "D= 1-((1-p1)*(1-p2)*(1-p3)+p1*p2*p3)\n",
    "\n",
    "print(A, B, С, D)"
   ]
  },
  {
   "cell_type": "code",
   "execution_count": null,
   "id": "548bc1e2",
   "metadata": {},
   "outputs": [],
   "source": []
  }
 ],
 "metadata": {
  "kernelspec": {
   "display_name": "Python 3",
   "language": "python",
   "name": "python3"
  },
  "language_info": {
   "codemirror_mode": {
    "name": "ipython",
    "version": 3
   },
   "file_extension": ".py",
   "mimetype": "text/x-python",
   "name": "python",
   "nbconvert_exporter": "python",
   "pygments_lexer": "ipython3",
   "version": "3.8.8"
  }
 },
 "nbformat": 4,
 "nbformat_minor": 5
}
