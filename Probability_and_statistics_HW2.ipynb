{
 "cells": [
  {
   "cell_type": "code",
   "execution_count": null,
   "id": "a5561b1d",
   "metadata": {},
   "outputs": [],
   "source": [
    "# 1.Вероятность того, что стрелок попадет в мишень, выстрелив один раз, равна 0.8. \n",
    "# Стрелок выстрелил 100 раз. Найдите вероятность того, что стрелок попадет в цель ровно 85 раз.\n",
    "\n"
   ]
  },
  {
   "cell_type": "code",
   "execution_count": 5,
   "id": "17147a24",
   "metadata": {},
   "outputs": [],
   "source": [
    "import numpy as np\n",
    "from math import factorial"
   ]
  },
  {
   "cell_type": "code",
   "execution_count": 6,
   "id": "4f0cc272",
   "metadata": {},
   "outputs": [],
   "source": [
    "# def combinations(n, k):\n",
    "#     return int(factorial(n) / (factorial(k) * factorial(n - k)))"
   ]
  },
  {
   "cell_type": "code",
   "execution_count": 80,
   "id": "ccb838fe",
   "metadata": {},
   "outputs": [
    {
     "data": {
      "text/plain": [
       "0.048061793700746556"
      ]
     },
     "execution_count": 80,
     "metadata": {},
     "output_type": "execute_result"
    }
   ],
   "source": [
    "n = 100\n",
    "m = 85\n",
    "p = 0.8\n",
    "q = 0.2 #(1-0.8)#\n",
    "# (По формуле Бернулли)\n",
    "np.math.factorial(n) / (np.math.factorial(m) * factorial(n - m)) * p**m * q**(n-m)\n"
   ]
  },
  {
   "cell_type": "code",
   "execution_count": null,
   "id": "ba7db082",
   "metadata": {},
   "outputs": [],
   "source": [
    "# Ответ:0.048061793700746556"
   ]
  },
  {
   "cell_type": "code",
   "execution_count": 33,
   "id": "bf2af53f",
   "metadata": {},
   "outputs": [],
   "source": [
    "# 2.Вероятность того, что лампочка перегорит в течение первого дня эксплуатации, равна 0.0004. \n",
    "# В жилом комплексе после ремонта в один день включили 5000 новых лампочек. \n",
    "# Какова вероятность, что ни одна из них не перегорит в первый день? Какова вероятность, что перегорят ровно две?\n",
    "\n"
   ]
  },
  {
   "cell_type": "code",
   "execution_count": 79,
   "id": "f2357c77",
   "metadata": {},
   "outputs": [
    {
     "data": {
      "text/plain": [
       "0.1353352832366127"
      ]
     },
     "execution_count": 79,
     "metadata": {},
     "output_type": "execute_result"
    }
   ],
   "source": [
    "n = 5000\n",
    "m = 0\n",
    "p = 0.0004\n",
    "# (Распределение Пуассона, т.к. большое количесвто повторений и очень низкая вероятность)\n",
    "lambda_ = n * p\n",
    "(lambda_**m / np.math.factorial(m)) * np.exp(-lambda_)"
   ]
  },
  {
   "cell_type": "code",
   "execution_count": 17,
   "id": "d63404e7",
   "metadata": {},
   "outputs": [
    {
     "data": {
      "text/plain": [
       "0.2706705664732254"
      ]
     },
     "execution_count": 17,
     "metadata": {},
     "output_type": "execute_result"
    }
   ],
   "source": [
    "n = 5000\n",
    "m = 1\n",
    "p = 0.0004\n",
    "lambda_ = n * p\n",
    "(lambda_**m / np.math.factorial(m)) * np.exp(-lambda_)\n"
   ]
  },
  {
   "cell_type": "code",
   "execution_count": null,
   "id": "5941051d",
   "metadata": {},
   "outputs": [],
   "source": [
    "Ответ: 0.1353352832366127 - вероятность, что ни одна не перегорит и 0.2706705664732254 - что перегорит ровно 2. "
   ]
  },
  {
   "cell_type": "code",
   "execution_count": null,
   "id": "d7d46088",
   "metadata": {},
   "outputs": [],
   "source": [
    "# 3.Монету подбросили 144 раза. Какова вероятность, что орел выпадет ровно 70 раз?\n"
   ]
  },
  {
   "cell_type": "code",
   "execution_count": 47,
   "id": "2bdd0cb1",
   "metadata": {},
   "outputs": [
    {
     "data": {
      "text/plain": [
       "0.06281178035144776"
      ]
     },
     "execution_count": 47,
     "metadata": {},
     "output_type": "execute_result"
    }
   ],
   "source": [
    "n = 144\n",
    "m = 70\n",
    "p = 0.5\n",
    "q = 0.5 # (вероятность, что выпадет либо орел, либо решка =0.5 при условии, что вероятность попадания монеты на ребро стремится к нулю)\n",
    "\n",
    "np.math.factorial(n) / (np.math.factorial(m) * factorial(n - m)) * p**m * q**(n-m)"
   ]
  },
  {
   "cell_type": "code",
   "execution_count": null,
   "id": "f5f623f7",
   "metadata": {},
   "outputs": [],
   "source": [
    "# Ответ: 0.06281178035144776"
   ]
  },
  {
   "cell_type": "code",
   "execution_count": null,
   "id": "93fd7b2f",
   "metadata": {},
   "outputs": [],
   "source": [
    "# 4.В первом ящике находится 10 мячей, из которых 7 - белые. Во втором ящике - 11 мячей, из которых 9 белых.\n",
    "# Из каждого ящика вытаскивают случайным образом по два мяча. Какова вероятность того, что все мячи белые? \n",
    "# Какова вероятность того, что ровно два мяча белые? Какова вероятность того, что хотя бы один мяч белый?"
   ]
  },
  {
   "cell_type": "code",
   "execution_count": 55,
   "id": "876a3671",
   "metadata": {},
   "outputs": [],
   "source": [
    "def combinations(n, k):\n",
    "    return int(factorial(n) / (factorial(k) * factorial(n - k)))"
   ]
  },
  {
   "cell_type": "code",
   "execution_count": 62,
   "id": "035d6f6d",
   "metadata": {},
   "outputs": [
    {
     "data": {
      "text/plain": [
       "21"
      ]
     },
     "execution_count": 62,
     "metadata": {},
     "output_type": "execute_result"
    }
   ],
   "source": [
    "combinations(7,2)"
   ]
  },
  {
   "cell_type": "code",
   "execution_count": 61,
   "id": "6c1f3912",
   "metadata": {},
   "outputs": [
    {
     "data": {
      "text/plain": [
       "45"
      ]
     },
     "execution_count": 61,
     "metadata": {},
     "output_type": "execute_result"
    }
   ],
   "source": [
    "combinations(10,2)"
   ]
  },
  {
   "cell_type": "code",
   "execution_count": 59,
   "id": "5331a6cf",
   "metadata": {},
   "outputs": [
    {
     "data": {
      "text/plain": [
       "0.4666666666666667"
      ]
     },
     "execution_count": 59,
     "metadata": {},
     "output_type": "execute_result"
    }
   ],
   "source": [
    "21/45"
   ]
  },
  {
   "cell_type": "code",
   "execution_count": 63,
   "id": "7b323ff2",
   "metadata": {},
   "outputs": [
    {
     "data": {
      "text/plain": [
       "36"
      ]
     },
     "execution_count": 63,
     "metadata": {},
     "output_type": "execute_result"
    }
   ],
   "source": [
    "combinations(9,2)"
   ]
  },
  {
   "cell_type": "code",
   "execution_count": 64,
   "id": "b48c2104",
   "metadata": {},
   "outputs": [
    {
     "data": {
      "text/plain": [
       "55"
      ]
     },
     "execution_count": 64,
     "metadata": {},
     "output_type": "execute_result"
    }
   ],
   "source": [
    "combinations(11,2)"
   ]
  },
  {
   "cell_type": "code",
   "execution_count": 65,
   "id": "6f944541",
   "metadata": {},
   "outputs": [
    {
     "data": {
      "text/plain": [
       "0.6545454545454545"
      ]
     },
     "execution_count": 65,
     "metadata": {},
     "output_type": "execute_result"
    }
   ],
   "source": [
    "36/55"
   ]
  },
  {
   "cell_type": "code",
   "execution_count": 66,
   "id": "8683aa78",
   "metadata": {},
   "outputs": [
    {
     "data": {
      "text/plain": [
       "0.3054545454545455"
      ]
     },
     "execution_count": 66,
     "metadata": {},
     "output_type": "execute_result"
    }
   ],
   "source": [
    "0.4666666666666667*0.6545454545454545"
   ]
  },
  {
   "cell_type": "code",
   "execution_count": null,
   "id": "e839cf9f",
   "metadata": {},
   "outputs": [],
   "source": [
    "# Вторая часть вопроса (Какова вероятность того, что хотя бы один мяч белый?)"
   ]
  },
  {
   "cell_type": "code",
   "execution_count": 76,
   "id": "32ebd57c",
   "metadata": {},
   "outputs": [
    {
     "data": {
      "text/plain": [
       "3"
      ]
     },
     "execution_count": 76,
     "metadata": {},
     "output_type": "execute_result"
    }
   ],
   "source": [
    "combinations(10-7,2)"
   ]
  },
  {
   "cell_type": "code",
   "execution_count": 69,
   "id": "66b5cdc4",
   "metadata": {},
   "outputs": [
    {
     "data": {
      "text/plain": [
       "45"
      ]
     },
     "execution_count": 69,
     "metadata": {},
     "output_type": "execute_result"
    }
   ],
   "source": [
    "combinations(10,2)"
   ]
  },
  {
   "cell_type": "code",
   "execution_count": 77,
   "id": "2826474c",
   "metadata": {},
   "outputs": [
    {
     "data": {
      "text/plain": [
       "0.06666666666666667"
      ]
     },
     "execution_count": 77,
     "metadata": {},
     "output_type": "execute_result"
    }
   ],
   "source": [
    "3/45"
   ]
  },
  {
   "cell_type": "code",
   "execution_count": 68,
   "id": "d46b30de",
   "metadata": {},
   "outputs": [
    {
     "data": {
      "text/plain": [
       "1"
      ]
     },
     "execution_count": 68,
     "metadata": {},
     "output_type": "execute_result"
    }
   ],
   "source": [
    "combinations(11-9,2)"
   ]
  },
  {
   "cell_type": "code",
   "execution_count": 70,
   "id": "27d7e72b",
   "metadata": {},
   "outputs": [
    {
     "data": {
      "text/plain": [
       "55"
      ]
     },
     "execution_count": 70,
     "metadata": {},
     "output_type": "execute_result"
    }
   ],
   "source": [
    "combinations(11,2)"
   ]
  },
  {
   "cell_type": "code",
   "execution_count": 72,
   "id": "b6c1a638",
   "metadata": {},
   "outputs": [
    {
     "data": {
      "text/plain": [
       "0.01818181818181818"
      ]
     },
     "execution_count": 72,
     "metadata": {},
     "output_type": "execute_result"
    }
   ],
   "source": [
    "1/55"
   ]
  },
  {
   "cell_type": "code",
   "execution_count": 78,
   "id": "3a681bd5",
   "metadata": {},
   "outputs": [
    {
     "data": {
      "text/plain": [
       "0.9987878787878788"
      ]
     },
     "execution_count": 78,
     "metadata": {},
     "output_type": "execute_result"
    }
   ],
   "source": [
    "1-0.01818181818181818*0.06666666666666667"
   ]
  },
  {
   "cell_type": "code",
   "execution_count": null,
   "id": "6e8b40ed",
   "metadata": {},
   "outputs": [],
   "source": [
    "# Ответ: вероятности составляют 0.3054545454545455 и 0.9987878787878788 соответственно. "
   ]
  }
 ],
 "metadata": {
  "kernelspec": {
   "display_name": "Python 3",
   "language": "python",
   "name": "python3"
  },
  "language_info": {
   "codemirror_mode": {
    "name": "ipython",
    "version": 3
   },
   "file_extension": ".py",
   "mimetype": "text/x-python",
   "name": "python",
   "nbconvert_exporter": "python",
   "pygments_lexer": "ipython3",
   "version": "3.8.8"
  }
 },
 "nbformat": 4,
 "nbformat_minor": 5
}
