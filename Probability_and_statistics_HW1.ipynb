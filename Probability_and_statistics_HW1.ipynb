{
 "cells": [
  {
   "cell_type": "code",
   "execution_count": 40,
   "id": "15c69e5a",
   "metadata": {},
   "outputs": [],
   "source": [
    "#Task_1: a) Из колоды в 52 карты извлекаются случайным образом 4 карты. a) Найти вероятность того, что все карты – крести. #\n",
    "from math import factorial\n",
    "def combinations(n, k):\n",
    "    return int(factorial(n) / (factorial(k) * factorial(n - k)))"
   ]
  },
  {
   "cell_type": "code",
   "execution_count": 41,
   "id": "db33c918",
   "metadata": {},
   "outputs": [
    {
     "data": {
      "text/plain": [
       "270725"
      ]
     },
     "execution_count": 41,
     "metadata": {},
     "output_type": "execute_result"
    }
   ],
   "source": [
    "combinations(52, 4)\n"
   ]
  },
  {
   "cell_type": "code",
   "execution_count": 42,
   "id": "481c8898",
   "metadata": {},
   "outputs": [],
   "source": [
    "prob=int(270725)"
   ]
  },
  {
   "cell_type": "code",
   "execution_count": 43,
   "id": "37ebd38f",
   "metadata": {},
   "outputs": [
    {
     "data": {
      "text/plain": [
       "715"
      ]
     },
     "execution_count": 43,
     "metadata": {},
     "output_type": "execute_result"
    }
   ],
   "source": [
    "combinations(52/4, 4)"
   ]
  },
  {
   "cell_type": "code",
   "execution_count": 46,
   "id": "2ecfeeb3",
   "metadata": {},
   "outputs": [],
   "source": [
    "probtwo=int(715)"
   ]
  },
  {
   "cell_type": "code",
   "execution_count": 52,
   "id": "80716221",
   "metadata": {},
   "outputs": [
    {
     "data": {
      "text/plain": [
       "0.0026410564225690276"
      ]
     },
     "execution_count": 52,
     "metadata": {},
     "output_type": "execute_result"
    }
   ],
   "source": [
    "probtwo/prob"
   ]
  },
  {
   "cell_type": "code",
   "execution_count": 60,
   "id": "da01f9dd",
   "metadata": {},
   "outputs": [
    {
     "data": {
      "text/plain": [
       "0.26410564225690275"
      ]
     },
     "execution_count": 60,
     "metadata": {},
     "output_type": "execute_result"
    }
   ],
   "source": [
    "0.0026410564225690276*100"
   ]
  },
  {
   "cell_type": "code",
   "execution_count": null,
   "id": "c969a144",
   "metadata": {},
   "outputs": [],
   "source": [
    "# Ответ: примерно 0.003 или 0.3%"
   ]
  },
  {
   "cell_type": "code",
   "execution_count": null,
   "id": "c5b50960",
   "metadata": {},
   "outputs": [],
   "source": [
    "#Task_2 b)б) Найти вероятность, что среди 4-х карт окажется хотя бы один туз.#"
   ]
  },
  {
   "cell_type": "code",
   "execution_count": 54,
   "id": "96004086",
   "metadata": {},
   "outputs": [
    {
     "data": {
      "text/plain": [
       "194580"
      ]
     },
     "execution_count": 54,
     "metadata": {},
     "output_type": "execute_result"
    }
   ],
   "source": [
    "from math import factorial\n",
    "def combinations(n, k):\n",
    "    return int(factorial(n) / (factorial(k) * factorial(n - k)))\n",
    "\n",
    "combinations(52-4, 4)\n"
   ]
  },
  {
   "cell_type": "code",
   "execution_count": 55,
   "id": "f02a25c4",
   "metadata": {},
   "outputs": [
    {
     "data": {
      "text/plain": [
       "270725"
      ]
     },
     "execution_count": 55,
     "metadata": {},
     "output_type": "execute_result"
    }
   ],
   "source": [
    "combinations(52, 4)"
   ]
  },
  {
   "cell_type": "code",
   "execution_count": 57,
   "id": "26d18137",
   "metadata": {},
   "outputs": [
    {
     "data": {
      "text/plain": [
       "76145"
      ]
     },
     "execution_count": 57,
     "metadata": {},
     "output_type": "execute_result"
    }
   ],
   "source": [
    "270725-194580"
   ]
  },
  {
   "cell_type": "code",
   "execution_count": 58,
   "id": "8f629969",
   "metadata": {},
   "outputs": [
    {
     "data": {
      "text/plain": [
       "0.2812632745405855"
      ]
     },
     "execution_count": 58,
     "metadata": {},
     "output_type": "execute_result"
    }
   ],
   "source": [
    "76145/270725"
   ]
  },
  {
   "cell_type": "code",
   "execution_count": null,
   "id": "a69d98da",
   "metadata": {},
   "outputs": [],
   "source": [
    "# Ответ: примерно 0.3"
   ]
  },
  {
   "cell_type": "code",
   "execution_count": null,
   "id": "59bdc55a",
   "metadata": {},
   "outputs": [],
   "source": [
    "#TasK_2: На входной двери подъезда установлен кодовый замок, содержащий десять кнопок с цифрами от 0 до 9.#\n",
    "#Код содержит три цифры, которые нужно нажать одновременно. #\n",
    "#Какова вероятность того, что человек, не знающий код, откроет дверь с первой попытки?#"
   ]
  },
  {
   "cell_type": "code",
   "execution_count": 62,
   "id": "3f6bbed2",
   "metadata": {},
   "outputs": [],
   "source": [
    "def combinations(n, k):\n",
    "    return int(factorial(n) / (factorial(k) * factorial(n - k)))"
   ]
  },
  {
   "cell_type": "code",
   "execution_count": 63,
   "id": "7f4f5ebe",
   "metadata": {},
   "outputs": [
    {
     "data": {
      "text/plain": [
       "120"
      ]
     },
     "execution_count": 63,
     "metadata": {},
     "output_type": "execute_result"
    }
   ],
   "source": [
    "combinations(10, 3)\n"
   ]
  },
  {
   "cell_type": "code",
   "execution_count": 64,
   "id": "854e5b72",
   "metadata": {},
   "outputs": [
    {
     "data": {
      "text/plain": [
       "1"
      ]
     },
     "execution_count": 64,
     "metadata": {},
     "output_type": "execute_result"
    }
   ],
   "source": [
    "combinations(3, 3)"
   ]
  },
  {
   "cell_type": "code",
   "execution_count": 66,
   "id": "a925533f",
   "metadata": {},
   "outputs": [
    {
     "data": {
      "text/plain": [
       "0.008333333333333333"
      ]
     },
     "execution_count": 66,
     "metadata": {},
     "output_type": "execute_result"
    }
   ],
   "source": [
    "1/120"
   ]
  },
  {
   "cell_type": "code",
   "execution_count": 67,
   "id": "bb86022f",
   "metadata": {},
   "outputs": [
    {
     "data": {
      "text/plain": [
       "0.8333333333333334"
      ]
     },
     "execution_count": 67,
     "metadata": {},
     "output_type": "execute_result"
    }
   ],
   "source": [
    "0.008333333333333333*100"
   ]
  },
  {
   "cell_type": "code",
   "execution_count": 65,
   "id": "50d8dd87",
   "metadata": {},
   "outputs": [
    {
     "data": {
      "text/plain": [
       "0.008333333333333333"
      ]
     },
     "execution_count": 65,
     "metadata": {},
     "output_type": "execute_result"
    }
   ],
   "source": [
    "# Ответ: примерно 0.008 или 0.8%"
   ]
  },
  {
   "cell_type": "code",
   "execution_count": 53,
   "id": "ebfe4cd0",
   "metadata": {},
   "outputs": [],
   "source": [
    "# Task_3 В ящике имеется 15 деталей, из которых 9 окрашены.\n",
    "# Рабочий случайным образом извлекает 3 детали. Какова вероятность того, что все извлеченные детали окрашены?\n",
    "\n",
    "\n"
   ]
  },
  {
   "cell_type": "code",
   "execution_count": 68,
   "id": "cfc4bde5",
   "metadata": {},
   "outputs": [
    {
     "data": {
      "text/plain": [
       "0.1846153846153846"
      ]
     },
     "execution_count": 68,
     "metadata": {},
     "output_type": "execute_result"
    }
   ],
   "source": [
    "9/15*8/14*7/13\n",
    "# Вероятность при первом извлечении 9/15, после первого извлечения остается 8 окрашенных и 14 деталей всего, \n",
    "# после второго - 7 и 13 соотвественно"
   ]
  },
  {
   "cell_type": "code",
   "execution_count": 69,
   "id": "7dc23c91",
   "metadata": {},
   "outputs": [
    {
     "data": {
      "text/plain": [
       "18.46153846153846"
      ]
     },
     "execution_count": 69,
     "metadata": {},
     "output_type": "execute_result"
    }
   ],
   "source": [
    "0.1846153846153846*100"
   ]
  },
  {
   "cell_type": "code",
   "execution_count": null,
   "id": "9370046c",
   "metadata": {},
   "outputs": [],
   "source": [
    "# Ответ: 0.185 или 18.5%"
   ]
  },
  {
   "cell_type": "code",
   "execution_count": null,
   "id": "7ad4d5ae",
   "metadata": {},
   "outputs": [],
   "source": [
    "# Task_4 В лотерее 100 билетов. Из них 2 выигрышных. Какова вероятность того, что 2 приобретенных билета окажутся выигрышными?"
   ]
  },
  {
   "cell_type": "code",
   "execution_count": 70,
   "id": "5e0f5d12",
   "metadata": {},
   "outputs": [
    {
     "data": {
      "text/plain": [
       "1"
      ]
     },
     "execution_count": 70,
     "metadata": {},
     "output_type": "execute_result"
    }
   ],
   "source": [
    "combinations(2,2)"
   ]
  },
  {
   "cell_type": "code",
   "execution_count": 71,
   "id": "583c3a4d",
   "metadata": {},
   "outputs": [
    {
     "data": {
      "text/plain": [
       "4950"
      ]
     },
     "execution_count": 71,
     "metadata": {},
     "output_type": "execute_result"
    }
   ],
   "source": [
    "combinations(100,2)"
   ]
  },
  {
   "cell_type": "code",
   "execution_count": 72,
   "id": "01d04ecf",
   "metadata": {},
   "outputs": [
    {
     "data": {
      "text/plain": [
       "0.00020202020202020202"
      ]
     },
     "execution_count": 72,
     "metadata": {},
     "output_type": "execute_result"
    }
   ],
   "source": [
    "1/4950"
   ]
  },
  {
   "cell_type": "code",
   "execution_count": 73,
   "id": "98d53907",
   "metadata": {},
   "outputs": [
    {
     "data": {
      "text/plain": [
       "0.0202020202020202"
      ]
     },
     "execution_count": 73,
     "metadata": {},
     "output_type": "execute_result"
    }
   ],
   "source": [
    "0.00020202020202020202*100"
   ]
  },
  {
   "cell_type": "code",
   "execution_count": null,
   "id": "b1678c92",
   "metadata": {},
   "outputs": [],
   "source": [
    "# Ответ: 0.0002 или 0.02%"
   ]
  }
 ],
 "metadata": {
  "kernelspec": {
   "display_name": "Python 3",
   "language": "python",
   "name": "python3"
  },
  "language_info": {
   "codemirror_mode": {
    "name": "ipython",
    "version": 3
   },
   "file_extension": ".py",
   "mimetype": "text/x-python",
   "name": "python",
   "nbconvert_exporter": "python",
   "pygments_lexer": "ipython3",
   "version": "3.8.8"
  }
 },
 "nbformat": 4,
 "nbformat_minor": 5
}
