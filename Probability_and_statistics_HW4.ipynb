{
 "cells": [
  {
   "cell_type": "code",
   "execution_count": 59,
   "id": "ca89811f",
   "metadata": {},
   "outputs": [],
   "source": [
    "import numpy as np\n",
    "import numpy as np\n",
    "import matplotlib.pyplot as plt\n",
    "from scipy.stats import norm\n"
   ]
  },
  {
   "cell_type": "code",
   "execution_count": null,
   "id": "518c4ab1",
   "metadata": {},
   "outputs": [],
   "source": [
    "# 1)Случайная непрерывная величина A имеет равномерное распределение на промежутке (200, 800].\n",
    "# Найдите ее среднее значение и дисперсию.\n"
   ]
  },
  {
   "cell_type": "code",
   "execution_count": 3,
   "id": "27c3a01b",
   "metadata": {},
   "outputs": [
    {
     "name": "stdout",
     "output_type": "stream",
     "text": [
      "500.0 30000.0\n"
     ]
    }
   ],
   "source": [
    "a = int(200)\n",
    "b = int(800)\n",
    "M = (a+b) / 2      #среднее значение (математическое ожидание), равномерное распределение\n",
    "D = (b-a)**2 / 12  #дисперсия (равномерное распределение)\n",
    "\n",
    "print(M,D)"
   ]
  },
  {
   "cell_type": "code",
   "execution_count": null,
   "id": "9cebf9a1",
   "metadata": {},
   "outputs": [],
   "source": [
    "\n",
    "# 2)О случайной непрерывной равномерно распределенной величине B известно, что ее дисперсия равна 0.2.\n",
    "# Можно ли найти правую границу величины B и ее среднее значение зная, что левая граница равна 0.5?\n",
    "# Если да, найдите ее.\n"
   ]
  },
  {
   "cell_type": "code",
   "execution_count": 26,
   "id": "78522e5c",
   "metadata": {},
   "outputs": [
    {
     "name": "stdout",
     "output_type": "stream",
     "text": [
      "2.049193338482967 1.2745966692414834\n"
     ]
    }
   ],
   "source": [
    "D = 0.2\n",
    "a = 0.5\n",
    "# D = (b-a)**2 / 12\n",
    "# (b - a)**2 / 12 = 0.2 -> \n",
    "# b-a = sqrt(0.2*12) ->\n",
    "\n",
    "c = math.sqrt(D * 12)\n",
    "b = a + c\n",
    "M = (a + b) / 2\n",
    "print(b, M)"
   ]
  },
  {
   "cell_type": "code",
   "execution_count": null,
   "id": "baa8125f",
   "metadata": {},
   "outputs": [],
   "source": [
    "\n",
    "# 3)Непрерывная случайная величина X распределена нормально и задана плотностью распределения\n",
    "# f(x) = (1 / (4 * sqrt(2*pi))) * (exp(-(x+2)**2) / 32).\n",
    "# Найдите:\n",
    "# а). M(X)\n",
    "# б). D(X)\n",
    "# в). std(X) (среднее квадратичное отклонение)\n",
    "\n",
    "# в). std(X) (среднее квадратичное отклонение) (Сигма)\n",
    "std(X) = 4 \n",
    "# б).\n",
    "D(X) = (std(X))**2 = 4**2 = 16\n",
    "M(X) = - 2 # ((x+2) = (x-(-2)))\n"
   ]
  },
  {
   "cell_type": "code",
   "execution_count": null,
   "id": "4f9c01de",
   "metadata": {},
   "outputs": [],
   "source": []
  },
  {
   "cell_type": "code",
   "execution_count": 81,
   "id": "184f72a9",
   "metadata": {},
   "outputs": [
    {
     "name": "stdout",
     "output_type": "stream",
     "text": [
      "0.6587000000000001\n",
      "0.5227999999999999\n",
      "0.8185\n",
      "0.6826\n",
      "0.9544\n",
      "0.024150000000000005\n",
      "0.0027000000000000357\n",
      "0.3413\n"
     ]
    }
   ],
   "source": [
    "\n",
    "# 4)Рост взрослого населения города X имеет нормальное распределение.\n",
    "# Причем, средний рост равен 174 см, а среднее квадратичное отклонение равно 8 см.\n",
    "# Какова вероятность того, что случайным образом выбранный взрослый человек имеет рост:\n",
    "# а). больше 182 см\n",
    "# P=1-F((182-174)/8)\n",
    "# F(1)=0.3413\n",
    "Pa = 1 - 0.3413\n",
    "print(Pa)\n",
    "# б). больше 190 см\n",
    "# P=1-F((190-174)/8) (или одна сигма)\n",
    "# F(2)=0.4772\n",
    "Pb = 1- 0.4772\n",
    "print(Pb)\n",
    "# в). от 166 см до 190 см\n",
    "\n",
    "Pv = 0.4772  +0.3413\n",
    "print(Pv)\n",
    "\n",
    "\n",
    "# г). от 166 см до 182 см\n",
    "Pg = 0.3413 + 0.3413\n",
    "\n",
    "print(Pg)\n",
    "\n",
    "# д). от 158 см до 190 см\n",
    "\n",
    "Pd = 0.4772 + 0.4772\n",
    "print(Pd)\n",
    "\n",
    "# е). не выше 150 см или не ниже 190 см\n",
    "# F(2) = 0.4772\n",
    "# F(3) = 0.49865\n",
    "Pe = 1 - (0.4772+0.49865)\n",
    "print(Pe)\n",
    "\n",
    "# ё). не выше 150 см или не ниже 198 см\n",
    "\n",
    "Pjo = 1 - (0.49865+0.49865)\n",
    "print(Pjo)\n",
    "\n",
    "# ж). ниже 166 см.\n",
    "\n",
    "# F(1)=0.3413\n",
    "Pg = 0 + 0.3413\n",
    "print(Pg)\n",
    "\n",
    "# https://math.semestr.ru/corel/table-laplas.php - Таблица значений функции Лапласа\n",
    "\n"
   ]
  },
  {
   "cell_type": "code",
   "execution_count": null,
   "id": "8cbfd705",
   "metadata": {},
   "outputs": [],
   "source": []
  },
  {
   "cell_type": "code",
   "execution_count": null,
   "id": "4bf600b3",
   "metadata": {},
   "outputs": [],
   "source": [
    "\n",
    "# 5)На сколько сигм (средних квадратичных отклонений) отклоняется рост человека, равный 190 см, от\n",
    "# математического ожидания роста в популяции, в которой M(X) = 178 см и D(X) = 25 кв.см?"
   ]
  },
  {
   "cell_type": "code",
   "execution_count": 30,
   "id": "508b0d02",
   "metadata": {},
   "outputs": [
    {
     "name": "stdout",
     "output_type": "stream",
     "text": [
      "5.0 2.4\n"
     ]
    }
   ],
   "source": [
    "D = 25\n",
    "M = 178\n",
    "X = 190\n",
    "# D(X)=сигма (std(X)) в квадрате ->\n",
    "std=math.sqrt(25)\n",
    "n = (X - M ) / std\n",
    "print(std, n)\n",
    "\n"
   ]
  },
  {
   "cell_type": "code",
   "execution_count": null,
   "id": "6f4a94ca",
   "metadata": {},
   "outputs": [],
   "source": []
  }
 ],
 "metadata": {
  "kernelspec": {
   "display_name": "Python 3",
   "language": "python",
   "name": "python3"
  },
  "language_info": {
   "codemirror_mode": {
    "name": "ipython",
    "version": 3
   },
   "file_extension": ".py",
   "mimetype": "text/x-python",
   "name": "python",
   "nbconvert_exporter": "python",
   "pygments_lexer": "ipython3",
   "version": "3.8.8"
  }
 },
 "nbformat": 4,
 "nbformat_minor": 5
}
